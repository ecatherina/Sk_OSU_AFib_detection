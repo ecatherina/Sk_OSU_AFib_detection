{
 "cells": [
  {
   "cell_type": "code",
   "execution_count": 4,
   "metadata": {},
   "outputs": [
    {
     "name": "stderr",
     "output_type": "stream",
     "text": [
      "Using TensorFlow backend.\n"
     ]
    }
   ],
   "source": [
    "import os, zipfile, shutil\n",
    "from os import listdir, mkdir, system\n",
    "from os.path import isfile, isdir, join, exists, splitext\n",
    "\n",
    "import sys\n",
    "import numpy as np\n",
    "import tensorflow as tf\n",
    "import sys\n",
    "import pandas as pd\n",
    "\n",
    "\n",
    "from matplotlib import pyplot as plt\n",
    "from IPython.display import display\n",
    "%matplotlib inline\n",
    "\n",
    "import seaborn as sns\n",
    "\n",
    "import cardio\n",
    "# import cardio.dataset as ds\n",
    "import cardio.batchflow as bf\n",
    "from cardio import EcgBatch, EcgDataset\n",
    "\n",
    "from scipy.stats import beta\n",
    "\n",
    "from cardio.batchflow import B, V, F\n",
    "from cardio.models.dirichlet_model import DirichletModel, concatenate_ecg_batch\n",
    "from cardio.models.metrics import f1_score, classification_report, confusion_matrix, auc\n",
    "from sklearn.metrics import accuracy_score\n",
    "\n",
    "import warnings\n",
    "warnings.filterwarnings('ignore')"
   ]
  },
  {
   "cell_type": "markdown",
   "metadata": {},
   "source": [
    "# Testing"
   ]
  },
  {
   "cell_type": "code",
   "execution_count": null,
   "metadata": {},
   "outputs": [],
   "source": [
    "# shutil.make_archive('All WFDB full LD', 'zip', SIGNALS_PATH )"
   ]
  },
  {
   "cell_type": "code",
   "execution_count": 5,
   "metadata": {},
   "outputs": [],
   "source": [
    "from imblearn.over_sampling import SMOTE\n",
    "from imblearn.under_sampling import RandomUnderSampler\n",
    "from sklearn.preprocessing import StandardScaler"
   ]
  },
  {
   "cell_type": "code",
   "execution_count": 6,
   "metadata": {},
   "outputs": [],
   "source": [
    "SIGNALS_PATH = \"/home/kate/Research/Raw Data/All WFDB full LD/\"\n",
    "SIGNALS_MASK = SIGNALS_PATH + \"*.hea\"\n",
    "MODEL_PATH = '/home/kate/Research/dirichlet_model'\n",
    "LABELS_PATH = SIGNALS_PATH + \"REFERENCE full LD.csv\"\n",
    "\n",
    "BATCH_SIZE = 256"
   ]
  },
  {
   "cell_type": "code",
   "execution_count": 7,
   "metadata": {},
   "outputs": [],
   "source": [
    "eds = EcgDataset(path=SIGNALS_MASK, no_ext=True, sort=True)\n",
    "# eds.cv_split()"
   ]
  },
  {
   "cell_type": "code",
   "execution_count": 8,
   "metadata": {},
   "outputs": [],
   "source": [
    "gpu_options = tf.GPUOptions(per_process_gpu_memory_fraction=0.5, allow_growth=True)\n",
    "\n",
    "model_config = {\n",
    "    \"session\": {\"config\": tf.ConfigProto(gpu_options=gpu_options)},\n",
    "    \"build\": False,\n",
    "    \"load\": {\"path\": MODEL_PATH},\n",
    "}"
   ]
  },
  {
   "cell_type": "code",
   "execution_count": 9,
   "metadata": {
    "scrolled": false
   },
   "outputs": [
    {
     "name": "stdout",
     "output_type": "stream",
     "text": [
      "INFO:tensorflow:Restoring parameters from /home/kate/Research/dirichlet_model/model-26000\n"
     ]
    }
   ],
   "source": [
    "test_ppl = (\n",
    "    bf.Pipeline()\n",
    "      .init_model(\"static\", DirichletModel, name=\"dirichlet\", config=model_config)\n",
    "      .init_variable(\"predictions_list\", init_on_each_run=list)\n",
    "      .load(fmt=\"wfdb\", components=[\"signal\", \"meta\"])\n",
    "      .load(components=\"target\", fmt=\"csv\", src=LABELS_PATH)\n",
    "#       .drop_labels([\"N\"])\n",
    "      .rename_labels({\"D\": \"A\", \"ND\": \"NO\"})\n",
    "      .band_pass_signals(low=2.5, high=25)\n",
    "      .flip_signals()\n",
    "      .split_signals(2048, 2048)\n",
    "      .binarize_labels()\n",
    "#        .drop_short_signals(4000)\n",
    "#        .random_split_signals(3000, 3)\n",
    "      .predict_model(\"dirichlet\", make_data=concatenate_ecg_batch,\n",
    "                     fetches=\"predictions\", save_to=V(\"predictions_list\"), mode=\"e\")\n",
    "      .run(batch_size=BATCH_SIZE, shuffle=False, drop_last=False, n_epochs=1, lazy=True)\n",
    ")\n",
    "\n",
    "test_ppl = (eds >> test_ppl).run()"
   ]
  },
  {
   "cell_type": "code",
   "execution_count": 10,
   "metadata": {},
   "outputs": [],
   "source": [
    "predictions = test_ppl.get_variable(\"predictions_list\")"
   ]
  },
  {
   "cell_type": "code",
   "execution_count": 12,
   "metadata": {},
   "outputs": [],
   "source": [
    "# print(metrics.evaluate('accuracy'))"
   ]
  },
  {
   "cell_type": "code",
   "execution_count": 13,
   "metadata": {},
   "outputs": [
    {
     "name": "stdout",
     "output_type": "stream",
     "text": [
      "              precision    recall  f1-score   support\n",
      "\n",
      "           A       0.11      0.03      0.05       266\n",
      "          NO       0.93      0.98      0.96      3703\n",
      "\n",
      "   micro avg       0.92      0.92      0.92      3969\n",
      "   macro avg       0.52      0.51      0.50      3969\n",
      "weighted avg       0.88      0.92      0.90      3969\n",
      "\n"
     ]
    }
   ],
   "source": [
    "print(classification_report(predictions))"
   ]
  },
  {
   "cell_type": "code",
   "execution_count": 14,
   "metadata": {},
   "outputs": [
    {
     "data": {
      "text/plain": [
       "0.504409874708394"
      ]
     },
     "execution_count": 14,
     "metadata": {},
     "output_type": "execute_result"
    }
   ],
   "source": [
    "f1_score(predictions)"
   ]
  },
  {
   "cell_type": "code",
   "execution_count": 15,
   "metadata": {},
   "outputs": [
    {
     "data": {
      "text/html": [
       "<div>\n",
       "<style scoped>\n",
       "    .dataframe tbody tr th:only-of-type {\n",
       "        vertical-align: middle;\n",
       "    }\n",
       "\n",
       "    .dataframe tbody tr th {\n",
       "        vertical-align: top;\n",
       "    }\n",
       "\n",
       "    .dataframe thead th {\n",
       "        text-align: right;\n",
       "    }\n",
       "</style>\n",
       "<table border=\"1\" class=\"dataframe\">\n",
       "  <thead>\n",
       "    <tr style=\"text-align: right;\">\n",
       "      <th>True</th>\n",
       "      <th>A</th>\n",
       "      <th>NO</th>\n",
       "      <th>All</th>\n",
       "    </tr>\n",
       "    <tr>\n",
       "      <th>Pred</th>\n",
       "      <th></th>\n",
       "      <th></th>\n",
       "      <th></th>\n",
       "    </tr>\n",
       "  </thead>\n",
       "  <tbody>\n",
       "    <tr>\n",
       "      <th>A</th>\n",
       "      <td>9</td>\n",
       "      <td>71</td>\n",
       "      <td>80</td>\n",
       "    </tr>\n",
       "    <tr>\n",
       "      <th>NO</th>\n",
       "      <td>257</td>\n",
       "      <td>3632</td>\n",
       "      <td>3889</td>\n",
       "    </tr>\n",
       "    <tr>\n",
       "      <th>All</th>\n",
       "      <td>266</td>\n",
       "      <td>3703</td>\n",
       "      <td>3969</td>\n",
       "    </tr>\n",
       "  </tbody>\n",
       "</table>\n",
       "</div>"
      ],
      "text/plain": [
       "True    A    NO   All\n",
       "Pred                 \n",
       "A       9    71    80\n",
       "NO    257  3632  3889\n",
       "All   266  3703  3969"
      ]
     },
     "execution_count": 15,
     "metadata": {},
     "output_type": "execute_result"
    }
   ],
   "source": [
    "confusion_matrix(predictions)"
   ]
  },
  {
   "cell_type": "code",
   "execution_count": 16,
   "metadata": {},
   "outputs": [
    {
     "data": {
      "text/html": [
       "<div>\n",
       "<style scoped>\n",
       "    .dataframe tbody tr th:only-of-type {\n",
       "        vertical-align: middle;\n",
       "    }\n",
       "\n",
       "    .dataframe tbody tr th {\n",
       "        vertical-align: top;\n",
       "    }\n",
       "\n",
       "    .dataframe thead th {\n",
       "        text-align: right;\n",
       "    }\n",
       "</style>\n",
       "<table border=\"1\" class=\"dataframe\">\n",
       "  <thead>\n",
       "    <tr style=\"text-align: right;\">\n",
       "      <th></th>\n",
       "      <th>AF prob</th>\n",
       "      <th>True label</th>\n",
       "    </tr>\n",
       "  </thead>\n",
       "  <tbody>\n",
       "    <tr>\n",
       "      <th>10_Bsk_1_A1_opt</th>\n",
       "      <td>0.02</td>\n",
       "      <td>NO</td>\n",
       "    </tr>\n",
       "    <tr>\n",
       "      <th>10_Bsk_1_A2_opt</th>\n",
       "      <td>0.02</td>\n",
       "      <td>NO</td>\n",
       "    </tr>\n",
       "    <tr>\n",
       "      <th>10_Bsk_1_A3_opt</th>\n",
       "      <td>0.02</td>\n",
       "      <td>NO</td>\n",
       "    </tr>\n",
       "    <tr>\n",
       "      <th>10_Bsk_1_A4_opt</th>\n",
       "      <td>0.02</td>\n",
       "      <td>NO</td>\n",
       "    </tr>\n",
       "    <tr>\n",
       "      <th>10_Bsk_1_A5_opt</th>\n",
       "      <td>0.02</td>\n",
       "      <td>NO</td>\n",
       "    </tr>\n",
       "    <tr>\n",
       "      <th>10_Bsk_1_A6_opt</th>\n",
       "      <td>0.02</td>\n",
       "      <td>NO</td>\n",
       "    </tr>\n",
       "    <tr>\n",
       "      <th>10_Bsk_1_A7_opt</th>\n",
       "      <td>0.02</td>\n",
       "      <td>NO</td>\n",
       "    </tr>\n",
       "    <tr>\n",
       "      <th>10_Bsk_1_A8_opt</th>\n",
       "      <td>0.02</td>\n",
       "      <td>NO</td>\n",
       "    </tr>\n",
       "    <tr>\n",
       "      <th>10_Bsk_1_B1_opt</th>\n",
       "      <td>0.02</td>\n",
       "      <td>NO</td>\n",
       "    </tr>\n",
       "    <tr>\n",
       "      <th>10_Bsk_1_B2_opt</th>\n",
       "      <td>0.02</td>\n",
       "      <td>NO</td>\n",
       "    </tr>\n",
       "  </tbody>\n",
       "</table>\n",
       "</div>"
      ],
      "text/plain": [
       "                 AF prob True label\n",
       "10_Bsk_1_A1_opt     0.02         NO\n",
       "10_Bsk_1_A2_opt     0.02         NO\n",
       "10_Bsk_1_A3_opt     0.02         NO\n",
       "10_Bsk_1_A4_opt     0.02         NO\n",
       "10_Bsk_1_A5_opt     0.02         NO\n",
       "10_Bsk_1_A6_opt     0.02         NO\n",
       "10_Bsk_1_A7_opt     0.02         NO\n",
       "10_Bsk_1_A8_opt     0.02         NO\n",
       "10_Bsk_1_B1_opt     0.02         NO\n",
       "10_Bsk_1_B2_opt     0.02         NO"
      ]
     },
     "execution_count": 16,
     "metadata": {},
     "output_type": "execute_result"
    }
   ],
   "source": [
    "pd.options.display.float_format = '{:.2f}'.format\n",
    "\n",
    "a = []\n",
    "for i in range(len(predictions)):\n",
    "    val =predictions[i]['target_pred']['A']\n",
    "#     print(val)\n",
    "    a.append(val)\n",
    "\n",
    "pred_proba = pd.DataFrame(a, index=eds.indices, columns=['AF prob'])\n",
    "\n",
    "true_labels = (pd.read_csv(LABELS_PATH, index_col=0, names=['True label'])\n",
    "               .replace(['N', 'ND'], 'NO'))\n",
    "true_labels = true_labels.replace('D', 'A')\n",
    "\n",
    "df = pd.merge(pred_proba, true_labels, how='left', left_index=True, right_index=True)\n",
    "df.head(10)"
   ]
  },
  {
   "cell_type": "code",
   "execution_count": 17,
   "metadata": {},
   "outputs": [
    {
     "name": "stdout",
     "output_type": "stream",
     "text": [
      "0.5073304717369984\n"
     ]
    }
   ],
   "source": [
    "from sklearn.metrics import balanced_accuracy_score, accuracy_score\n",
    "\n",
    "print(balanced_accuracy_score((df['True label'] == 'A').astype(int),\n",
    "                            (df['AF prob'].astype(float) >= 0.5).astype(int)))"
   ]
  },
  {
   "cell_type": "code",
   "execution_count": 18,
   "metadata": {},
   "outputs": [
    {
     "data": {
      "text/plain": [
       "0.4797720401462744"
      ]
     },
     "execution_count": 18,
     "metadata": {},
     "output_type": "execute_result"
    }
   ],
   "source": [
    "from sklearn.metrics import roc_curve, roc_auc_score, auc\n",
    "\n",
    "fpr, tpr, thresholds = roc_curve((df['True label']=='A').astype(int), df['AF prob'], pos_label=1)\n",
    "roc_auc = roc_auc_score((df['True label']=='A').astype(int), df['AF prob'])\n",
    "roc_auc"
   ]
  },
  {
   "cell_type": "code",
   "execution_count": 19,
   "metadata": {},
   "outputs": [
    {
     "data": {
      "image/png": "[encoded data removed]",
      "text/plain": [
       "<Figure size 432x288 with 1 Axes>"
      ]
     },
     "metadata": {},
     "output_type": "display_data"
    }
   ],
   "source": [
    "plt.figure()\n",
    "lw = 2\n",
    "plt.plot(fpr, tpr, color='darkorange',\n",
    "         lw=lw, label='ROC curve (area = %0.2f)' % roc_auc)\n",
    "plt.plot([0, 1], [0, 1], color='navy', lw=lw, linestyle='--')\n",
    "plt.xlim([0.0, 1.0])\n",
    "plt.ylim([0.0, 1.05])\n",
    "plt.xlabel('False Positive Rate')\n",
    "plt.ylabel('True Positive Rate')\n",
    "plt.title('Receiver operating characteristic')\n",
    "plt.legend(loc=\"lower right\")\n",
    "plt.savefig('../Research/roc_auc.png', format='png')\n",
    "plt.show()\n"
   ]
  },
  {
   "cell_type": "code",
   "execution_count": 37,
   "metadata": {},
   "outputs": [],
   "source": [
    "q = 90\n",
    "uncertainty = [d[\"uncertainty\"] for d in predictions]\n",
    "thr = np.percentile(uncertainty, q)\n",
    "certain_predictions = [d for d in predictions if d[\"uncertainty\"] <= thr]"
   ]
  },
  {
   "cell_type": "code",
   "execution_count": 38,
   "metadata": {},
   "outputs": [
    {
     "data": {
      "image/png": "[encoded data removed]",
      "text/plain": [
       "<Figure size 1080x288 with 1 Axes>"
      ]
     },
     "metadata": {},
     "output_type": "display_data"
    }
   ],
   "source": [
    "uncertainty = [d[\"uncertainty\"] for d in predictions]\n",
    "\n",
    "fig = plt.figure(figsize=(15, 4))\n",
    "sns.distplot(uncertainty, hist=True, norm_hist=True, kde=False)\n",
    "plt.xlabel(\"Model uncertainty\")\n",
    "plt.xlim(-0.05, 1.05)\n",
    "plt.show()"
   ]
  },
  {
   "cell_type": "code",
   "execution_count": null,
   "metadata": {},
   "outputs": [],
   "source": []
  },
  {
   "cell_type": "markdown",
   "metadata": {},
   "source": [
    "# Predictions"
   ]
  },
  {
   "cell_type": "code",
   "execution_count": 31,
   "metadata": {},
   "outputs": [],
   "source": [
    "from functools import partial"
   ]
  },
  {
   "cell_type": "code",
   "execution_count": 6,
   "metadata": {},
   "outputs": [],
   "source": [
    "import zipfile \n",
    "zip = zipfile.ZipFile('dirichlet_model.zip')\n",
    "zip.extractall()"
   ]
  },
  {
   "cell_type": "code",
   "execution_count": 26,
   "metadata": {},
   "outputs": [],
   "source": [
    "SIGNALS_PATH = \"/home/kate/Research/training2017/\"\n",
    "MODEL_PATH = '/home/kate/Research/dirichlet_model'\n",
    "\n",
    "BATCH_SIZE = 100"
   ]
  },
  {
   "cell_type": "code",
   "execution_count": 14,
   "metadata": {},
   "outputs": [
    {
     "data": {
      "text/plain": [
       "['attrs.json',\n",
       " 'checkpoint',\n",
       " 'model-26000.data-00000-of-00001',\n",
       " 'model-26000.index',\n",
       " 'model-26000.meta']"
      ]
     },
     "execution_count": 14,
     "metadata": {},
     "output_type": "execute_result"
    }
   ],
   "source": [
    "os.listdir('/home/kate/Research/dirichlet_model/')"
   ]
  },
  {
   "cell_type": "code",
   "execution_count": 15,
   "metadata": {},
   "outputs": [],
   "source": [
    "gpu_options = tf.GPUOptions(per_process_gpu_memory_fraction=0.5, allow_growth=True)\n",
    "\n",
    "model_config = {\n",
    "    \"session\": {\"config\": tf.ConfigProto(gpu_options=gpu_options)},\n",
    "    \"build\": False,\n",
    "    \"load\": {\"path\": MODEL_PATH},\n",
    "}"
   ]
  },
  {
   "cell_type": "code",
   "execution_count": 32,
   "metadata": {},
   "outputs": [
    {
     "name": "stdout",
     "output_type": "stream",
     "text": [
      "INFO:tensorflow:Restoring parameters from /home/kate/Research/dirichlet_model/model-26000\n"
     ]
    }
   ],
   "source": [
    "template_predict_ppl = (\n",
    "    ds.Pipeline()\n",
    "      .init_model(\"static\", DirichletModel, name=\"dirichlet\", config=model_config)\n",
    "      .init_variable(\"predictions_list\", init_on_each_run=list)\n",
    "      .load(fmt=\"wfdb\", components=[\"signal\", \"meta\"])\n",
    "      .flip_signals()\n",
    "      .split_signals(2048, 2048)\n",
    "      .predict_model(\"dirichlet\", make_data=partial(concatenate_ecg_batch, return_targets=False),\n",
    "                     fetches=\"predictions\", save_to=V(\"predictions_list\"), mode=\"e\")\n",
    "      .run(batch_size=BATCH_SIZE, shuffle=False, drop_last=False, n_epochs=1, lazy=True)\n",
    "    \n",
    ")"
   ]
  },
  {
   "cell_type": "code",
   "execution_count": 33,
   "metadata": {},
   "outputs": [],
   "source": [
    "signal_name = \"A00001.hea\"\n",
    "signal_path = SIGNALS_PATH + signal_name\n",
    "predict_eds = EcgDataset(path=signal_path, no_ext=True, sort=True)\n",
    "predict_ppl = (predict_eds >> template_predict_ppl).run()"
   ]
  },
  {
   "cell_type": "code",
   "execution_count": 34,
   "metadata": {},
   "outputs": [
    {
     "data": {
      "text/plain": [
       "[{'target_pred': {'A': 0.021257801, 'NO': 0.97874224},\n",
       "  'uncertainty': 0.007573604583740234}]"
      ]
     },
     "execution_count": 34,
     "metadata": {},
     "output_type": "execute_result"
    }
   ],
   "source": [
    "predict_ppl.get_variable(\"predictions_list\")"
   ]
  },
  {
   "cell_type": "code",
   "execution_count": 35,
   "metadata": {},
   "outputs": [
    {
     "name": "stdout",
     "output_type": "stream",
     "text": [
      "INFO:tensorflow:Restoring parameters from /home/kate/Research/dirichlet_model/model-26000\n"
     ]
    }
   ],
   "source": [
    "template_full_predict_ppl = (\n",
    "    ds.Pipeline()\n",
    "      .init_model(\"static\", DirichletModel, name=\"dirichlet\", config=model_config)\n",
    "      .init_variable(\"signals\", init_on_each_run=list)\n",
    "      .init_variable(\"predictions_list\", init_on_each_run=list)\n",
    "      .init_variable(\"parameters_list\", init_on_each_run=list)\n",
    "      .load(fmt=\"wfdb\", components=[\"signal\", \"meta\"])\n",
    "      .update_variable(\"signals\", value=B(\"signal\"))\n",
    "      .flip_signals()\n",
    "      .split_signals(2048, 2048)\n",
    "      .predict_model(\"dirichlet\", make_data=partial(concatenate_ecg_batch, return_targets=False),\n",
    "                     fetches=[\"predictions\", \"parameters\"],\n",
    "                     save_to=[V(\"predictions_list\"), V(\"parameters_list\")], mode=\"e\")\n",
    "      .run(batch_size=BATCH_SIZE, shuffle=False, drop_last=False, n_epochs=1, lazy=True)\n",
    ")"
   ]
  },
  {
   "cell_type": "code",
   "execution_count": 36,
   "metadata": {},
   "outputs": [],
   "source": [
    "def predict_and_visualize(signal_path):\n",
    "    predict_eds = EcgDataset(path=signal_path, no_ext=True, sort=True)\n",
    "    \n",
    "    full_predict_ppl = (predict_eds >> template_full_predict_ppl).run()\n",
    "    signal = full_predict_ppl.get_variable(\"signals\")[0][0][0][:2000].ravel()\n",
    "    predictions = full_predict_ppl.get_variable(\"predictions_list\")[0]\n",
    "    parameters = full_predict_ppl.get_variable(\"parameters_list\")[0]\n",
    "    \n",
    "    print(predictions)\n",
    "\n",
    "    x = np.linspace(0.001, 0.999, 1000)\n",
    "    y = np.zeros_like(x)\n",
    "    for alpha in parameters:\n",
    "        y += beta.pdf(x, *alpha)\n",
    "    y /= len(parameters)\n",
    "    \n",
    "    fig, (ax1, ax2) = plt.subplots(1, 2, gridspec_kw={\"width_ratios\": [2.5, 1]}, figsize=(15, 4))\n",
    "\n",
    "    ax1.plot(signal)\n",
    "\n",
    "    ax2.plot(x, y)\n",
    "    ax2.fill_between(x, y, alpha=0.3)\n",
    "    ax2.set_ylim(ymin=0)\n",
    "\n",
    "    plt.show()"
   ]
  },
  {
   "cell_type": "code",
   "execution_count": 43,
   "metadata": {},
   "outputs": [
    {
     "name": "stdout",
     "output_type": "stream",
     "text": [
      "{'uncertainty': 0.007573604583740234, 'target_pred': {'A': 0.021257801, 'NO': 0.97874224}}\n"
     ]
    },
    {
     "data": {
      "image/png": "[encoded data removed]",
      "text/plain": [
       "<Figure size 1080x288 with 2 Axes>"
      ]
     },
     "metadata": {},
     "output_type": "display_data"
    }
   ],
   "source": [
    "predict_and_visualize(SIGNALS_PATH + \"A00001.hea\")"
   ]
  },
  {
   "cell_type": "code",
   "execution_count": 42,
   "metadata": {},
   "outputs": [
    {
     "name": "stdout",
     "output_type": "stream",
     "text": [
      "{'uncertainty': 0.4200456142425537, 'target_pred': {'A': 0.19596615, 'NO': 0.8040339}}\n"
     ]
    },
    {
     "data": {
      "image/png": "[encoded data removed]",
      "text/plain": [
       "<Figure size 1080x288 with 2 Axes>"
      ]
     },
     "metadata": {},
     "output_type": "display_data"
    }
   ],
   "source": [
    "predict_and_visualize(SIGNALS_PATH + \"A01505.hea\")"
   ]
  },
  {
   "cell_type": "markdown",
   "metadata": {},
   "source": [
    "# Electrodes"
   ]
  },
  {
   "cell_type": "code",
   "execution_count": 128,
   "metadata": {},
   "outputs": [],
   "source": [
    "SIGNALS_PATH = \"/home/kate/Research/Raw Data/All WFDB/\"\n",
    "MODEL_PATH = '/home/kate/Research/dirichlet_model'\n",
    "LABELS_PATH = SIGNALS_PATH + \"REFERENCE.csv\"\n",
    "\n",
    "BATCH_SIZE = 100"
   ]
  },
  {
   "cell_type": "code",
   "execution_count": 129,
   "metadata": {},
   "outputs": [],
   "source": [
    "gpu_options = tf.GPUOptions(per_process_gpu_memory_fraction=0.5, allow_growth=True)\n",
    "\n",
    "model_config = {\n",
    "    \"session\": {\"config\": tf.ConfigProto(gpu_options=gpu_options)},\n",
    "    \"build\": False,\n",
    "    \"load\": {\"path\": MODEL_PATH},\n",
    "}"
   ]
  },
  {
   "cell_type": "code",
   "execution_count": 140,
   "metadata": {},
   "outputs": [
    {
     "name": "stdout",
     "output_type": "stream",
     "text": [
      "INFO:tensorflow:Restoring parameters from /home/kate/Research/dirichlet_model/model-26000\n"
     ]
    }
   ],
   "source": [
    "template_predict_ppl = (\n",
    "    ds.Pipeline()\n",
    "      .init_model(\"static\", DirichletModel, name=\"dirichlet\", config=model_config)\n",
    "      .init_variable(\"predictions_list\", init_on_each_run=list)\n",
    "      .load(fmt=\"wfdb\", components=[\"signal\", \"meta\"])\n",
    "      .band_pass_signals(low=1, high=20)\n",
    "      .flip_signals()\n",
    "      .split_signals(2048, 2048)\n",
    "      .predict_model(\"dirichlet\", make_data=partial(concatenate_ecg_batch, return_targets=False),\n",
    "                     fetches=\"predictions\", save_to=V(\"predictions_list\"), mode=\"e\")\n",
    "      .run(batch_size=BATCH_SIZE, shuffle=False, drop_last=False, n_epochs=1, lazy=True)\n",
    "    \n",
    ")"
   ]
  },
  {
   "cell_type": "code",
   "execution_count": 141,
   "metadata": {},
   "outputs": [],
   "source": [
    "names = os.listdir(SIGNALS_PATH)\n",
    "for name in names:\n",
    "    if name.endswith('.dat'):\n",
    "        names.remove(name) "
   ]
  },
  {
   "cell_type": "code",
   "execution_count": 142,
   "metadata": {},
   "outputs": [],
   "source": [
    "signal_name = names[1]\n",
    "signal_path = SIGNALS_PATH + signal_name\n",
    "predict_eds = EcgDataset(path=signal_path, no_ext=True, sort=True)\n",
    "predict_ppl = (predict_eds >> template_predict_ppl).run()"
   ]
  },
  {
   "cell_type": "code",
   "execution_count": 143,
   "metadata": {},
   "outputs": [
    {
     "data": {
      "text/plain": [
       "[{'target_pred': {'A': 0.19774394, 'NO': 0.802256},\n",
       "  'uncertainty': 0.36562466621398926}]"
      ]
     },
     "execution_count": 143,
     "metadata": {},
     "output_type": "execute_result"
    }
   ],
   "source": [
    "predict_ppl.get_variable(\"predictions_list\")"
   ]
  },
  {
   "cell_type": "code",
   "execution_count": 144,
   "metadata": {},
   "outputs": [
    {
     "data": {
      "text/html": [
       "<div>\n",
       "<style scoped>\n",
       "    .dataframe tbody tr th:only-of-type {\n",
       "        vertical-align: middle;\n",
       "    }\n",
       "\n",
       "    .dataframe tbody tr th {\n",
       "        vertical-align: top;\n",
       "    }\n",
       "\n",
       "    .dataframe thead th {\n",
       "        text-align: right;\n",
       "    }\n",
       "</style>\n",
       "<table border=\"1\" class=\"dataframe\">\n",
       "  <thead>\n",
       "    <tr style=\"text-align: right;\">\n",
       "      <th></th>\n",
       "      <th>H72_F75_Electrode_KH_OM_KH_Bsk_2_C7</th>\n",
       "      <th>D</th>\n",
       "    </tr>\n",
       "  </thead>\n",
       "  <tbody>\n",
       "    <tr>\n",
       "      <th>0</th>\n",
       "      <td>H72_F75_Electrode_KH_OM_KH_Bsk_2_C8</td>\n",
       "      <td>D</td>\n",
       "    </tr>\n",
       "    <tr>\n",
       "      <th>1</th>\n",
       "      <td>H72_F75_Electrode_KH_OM_KH_Bsk_2_D7</td>\n",
       "      <td>D</td>\n",
       "    </tr>\n",
       "    <tr>\n",
       "      <th>2</th>\n",
       "      <td>H72_F75_Electrode_KH_OM_KH_Bsk_2_D8</td>\n",
       "      <td>D</td>\n",
       "    </tr>\n",
       "    <tr>\n",
       "      <th>3</th>\n",
       "      <td>H79_F108_csv_annot_OM_KH_Bsk_1_B5</td>\n",
       "      <td>D</td>\n",
       "    </tr>\n",
       "    <tr>\n",
       "      <th>4</th>\n",
       "      <td>H79_F108_csv_annot_OM_KH_Bsk_1_C5</td>\n",
       "      <td>D</td>\n",
       "    </tr>\n",
       "  </tbody>\n",
       "</table>\n",
       "</div>"
      ],
      "text/plain": [
       "   H72_F75_Electrode_KH_OM_KH_Bsk_2_C7  D\n",
       "0  H72_F75_Electrode_KH_OM_KH_Bsk_2_C8  D\n",
       "1  H72_F75_Electrode_KH_OM_KH_Bsk_2_D7  D\n",
       "2  H72_F75_Electrode_KH_OM_KH_Bsk_2_D8  D\n",
       "3    H79_F108_csv_annot_OM_KH_Bsk_1_B5  D\n",
       "4    H79_F108_csv_annot_OM_KH_Bsk_1_C5  D"
      ]
     },
     "execution_count": 144,
     "metadata": {},
     "output_type": "execute_result"
    }
   ],
   "source": [
    "pd.read_csv(LABELS_PATH).head()"
   ]
  },
  {
   "cell_type": "code",
   "execution_count": 145,
   "metadata": {},
   "outputs": [],
   "source": [
    "batch = predict_eds.next_batch(1, unique_labels=['N', 'D', 'ND'])"
   ]
  },
  {
   "cell_type": "code",
   "execution_count": 146,
   "metadata": {},
   "outputs": [],
   "source": [
    "batch_with_data = batch.load(fmt='wfdb', components=['signal', 'meta'])"
   ]
  },
  {
   "cell_type": "code",
   "execution_count": 147,
   "metadata": {},
   "outputs": [],
   "source": [
    "batch_with_data = batch_with_data.load(src=LABELS_PATH, fmt='csv', components='target')"
   ]
  },
  {
   "cell_type": "code",
   "execution_count": 148,
   "metadata": {},
   "outputs": [
    {
     "data": {
      "text/plain": [
       "array(['ND'], dtype=object)"
      ]
     },
     "execution_count": 148,
     "metadata": {},
     "output_type": "execute_result"
    }
   ],
   "source": [
    "batch_with_data.target"
   ]
  },
  {
   "cell_type": "code",
   "execution_count": 114,
   "metadata": {},
   "outputs": [
    {
     "name": "stdout",
     "output_type": "stream",
     "text": [
      "INFO:tensorflow:Restoring parameters from /home/kate/Research/dirichlet_model/model-26000\n"
     ]
    }
   ],
   "source": [
    "template_full_predict_ppl = (\n",
    "    ds.Pipeline()\n",
    "      .init_model(\"static\", DirichletModel, name=\"dirichlet\", config=model_config)\n",
    "      .init_variable(\"signals\", init_on_each_run=list)\n",
    "      .init_variable(\"predictions_list\", init_on_each_run=list)\n",
    "      .init_variable(\"parameters_list\", init_on_each_run=list)\n",
    "      .load(fmt=\"wfdb\", components=[\"signal\", \"meta\"])\n",
    "      .update_variable(\"signals\", value=B(\"signal\"))\n",
    "      .flip_signals()\n",
    "      .split_signals(2048, 2048)\n",
    "      .predict_model(\"dirichlet\", make_data=partial(concatenate_ecg_batch, return_targets=False),\n",
    "                     fetches=[\"predictions\", \"parameters\"],\n",
    "                     save_to=[V(\"predictions_list\"), V(\"parameters_list\")], mode=\"e\")\n",
    "      .run(batch_size=BATCH_SIZE, shuffle=False, drop_last=False, n_epochs=1, lazy=True)\n",
    ")"
   ]
  },
  {
   "cell_type": "code",
   "execution_count": 115,
   "metadata": {},
   "outputs": [],
   "source": [
    "def predict_and_visualize(signal_path):\n",
    "    predict_eds = EcgDataset(path=signal_path, no_ext=True, sort=True)\n",
    "    \n",
    "    full_predict_ppl = (predict_eds >> template_full_predict_ppl).run()\n",
    "    signal = full_predict_ppl.get_variable(\"signals\")[0][0][0][:2000].ravel()\n",
    "    predictions = full_predict_ppl.get_variable(\"predictions_list\")[0]\n",
    "    parameters = full_predict_ppl.get_variable(\"parameters_list\")[0]\n",
    "    \n",
    "    print(predictions)\n",
    "\n",
    "    x = np.linspace(0.001, 0.999, 1000)\n",
    "    y = np.zeros_like(x)\n",
    "    for alpha in parameters:\n",
    "        y += beta.pdf(x, *alpha)\n",
    "    y /= len(parameters)\n",
    "    \n",
    "    fig, (ax1, ax2) = plt.subplots(1, 2, gridspec_kw={\"width_ratios\": [2.5, 1]}, figsize=(15, 4))\n",
    "\n",
    "    ax1.plot(signal)\n",
    "\n",
    "    ax2.plot(x, y)\n",
    "    ax2.fill_between(x, y, alpha=0.3)\n",
    "    ax2.set_ylim(ymin=0)\n",
    "\n",
    "    plt.show()"
   ]
  },
  {
   "cell_type": "code",
   "execution_count": 149,
   "metadata": {},
   "outputs": [
    {
     "name": "stdout",
     "output_type": "stream",
     "text": [
      "{'uncertainty': 0.3939533233642578, 'target_pred': {'A': 0.20375507, 'NO': 0.7962449}}\n"
     ]
    },
    {
     "data": {
      "image/png": "[encoded data removed]",
      "text/plain": [
       "<Figure size 1080x288 with 2 Axes>"
      ]
     },
     "metadata": {},
     "output_type": "display_data"
    }
   ],
   "source": [
    "signal_name = names[1]\n",
    "signal_path = SIGNALS_PATH + signal_name\n",
    "predict_and_visualize(signal_path)"
   ]
  },
  {
   "cell_type": "code",
   "execution_count": 124,
   "metadata": {},
   "outputs": [
    {
     "name": "stdout",
     "output_type": "stream",
     "text": [
      "/home/kate/Research/Raw Data/All WFDB/H79_F108_csv_annot_OM_KH_Bsk_1_E5.hea\n"
     ]
    }
   ],
   "source": [
    "print(signal_path)"
   ]
  },
  {
   "cell_type": "code",
   "execution_count": null,
   "metadata": {},
   "outputs": [],
   "source": []
  }
 ],
 "metadata": {
  "kernelspec": {
   "display_name": "Python 3",
   "language": "python",
   "name": "python3"
  },
  "language_info": {
   "codemirror_mode": {
    "name": "ipython",
    "version": 3
   },
   "file_extension": ".py",
   "mimetype": "text/x-python",
   "name": "python",
   "nbconvert_exporter": "python",
   "pygments_lexer": "ipython3",
   "version": "3.5.2"
  }
 },
 "nbformat": 4,
 "nbformat_minor": 2
}
