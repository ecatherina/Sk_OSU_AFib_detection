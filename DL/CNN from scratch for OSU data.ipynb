{
 "cells": [
  {
   "cell_type": "code",
   "execution_count": 2,
   "metadata": {},
   "outputs": [],
   "source": [
    "import os, zipfile\n",
    "from os import listdir, mkdir, system\n",
    "from os.path import isfile, isdir, join, exists, splitext\n",
    "\n",
    "import sys\n",
    "import numpy as np\n",
    "import tensorflow as tf\n",
    "import sys\n",
    "import pandas as pd\n",
    "\n",
    "\n",
    "from matplotlib import pyplot as plt\n",
    "from IPython.display import display\n",
    "%matplotlib inline\n",
    "\n",
    "import seaborn as sns\n",
    "\n",
    "import cardio\n",
    "import cardio.dataset as ds\n",
    "from cardio import EcgBatch, EcgDataset\n",
    "\n",
    "\n",
    "from scipy.stats import beta\n",
    "\n",
    "from cardio.dataset import B, V, F\n",
    "from cardio.models.metrics import f1_score, classification_report, confusion_matrix\n",
    "\n",
    "import warnings\n",
    "warnings.filterwarnings('ignore')"
   ]
  },
  {
   "cell_type": "markdown",
   "metadata": {},
   "source": [
    "# Training network from scratch on OSU data"
   ]
  },
  {
   "cell_type": "code",
   "execution_count": 4,
   "metadata": {},
   "outputs": [],
   "source": [
    "SIGNALS_PATH = \"/home/kate/Research/Raw Data/All WFDB/\" # train-test data\n",
    "SIGNALS_MASK = SIGNALS_PATH + \"*.hea\"\n",
    "LABELS_PATH = SIGNALS_PATH + \"REFERENCE.csv\""
   ]
  },
  {
   "cell_type": "code",
   "execution_count": 5,
   "metadata": {},
   "outputs": [],
   "source": [
    "eds = EcgDataset(path=SIGNALS_MASK, no_ext=True, sort=True)\n",
    "eds.cv_split(0.8)"
   ]
  },
  {
   "cell_type": "code",
   "execution_count": 6,
   "metadata": {},
   "outputs": [],
   "source": [
    "gpu_options = tf.GPUOptions(per_process_gpu_memory_fraction=0.5, allow_growth=True)\n",
    "\n",
    "model_config = {\n",
    "    \"session\": {\"config\": tf.ConfigProto(gpu_options=gpu_options)},\n",
    "    \"input_shape\": F(lambda batch: batch.signal[0].shape[1:]),\n",
    "    \"class_names\": F(lambda batch: batch.label_binarizer.classes_),\n",
    "    \"loss\": None,\n",
    "}"
   ]
  },
  {
   "cell_type": "code",
   "execution_count": 7,
   "metadata": {},
   "outputs": [],
   "source": [
    "N_EPOCH = 1000 \n",
    "BATCH_SIZE = 256"
   ]
  },
  {
   "cell_type": "code",
   "execution_count": 14,
   "metadata": {},
   "outputs": [
    {
     "name": "stdout",
     "output_type": "stream",
     "text": [
      "-0.52608335\n",
      "-0.62128776\n",
      "-0.7285265\n",
      "-0.34415114\n"
     ]
    }
   ],
   "source": [
    "template_train_ppl = (\n",
    "    ds.Pipeline()\n",
    "      .init_model(\"dynamic\", DirichletModel, name=\"dirichlet\", config=model_config)\n",
    "      .init_variable(\"loss_history\", init_on_each_run=list)\n",
    "      .load(components=[\"signal\", \"meta\"], fmt=\"wfdb\")\n",
    "      .load(components=\"target\", fmt=\"csv\", src=LABELS_PATH)\n",
    "      .drop_labels([\"N\"])\n",
    "      .band_pass_signals(low=4, high=25)\n",
    "      .flip_signals()\n",
    "      .random_resample_signals(\"normal\", loc=300, scale=10)\n",
    "      .random_split_signals(2048, {\"D\": 8, \"ND\": 2})\n",
    "      .binarize_labels()\n",
    "      .train_model(\"dirichlet\", make_data=concatenate_ecg_batch,\n",
    "                   fetches=\"loss\", save_to=V(\"loss_history\"), mode=\"a\")\n",
    "      .call(lambda _, v: print(v[-1]), v=V('loss_history'))\n",
    "      .run(batch_size=BATCH_SIZE, shuffle=True, drop_last=True, n_epochs=N_EPOCH, lazy=True)\n",
    ")\n",
    "\n",
    "train_ppl = (eds.train >> template_train_ppl).run()"
   ]
  },
  {
   "cell_type": "code",
   "execution_count": 12,
   "metadata": {},
   "outputs": [
    {
     "data": {
      "image/png": "[encoded data removed]",
      "text/plain": [
       "<Figure size 1080x288 with 1 Axes>"
      ]
     },
     "metadata": {},
     "output_type": "display_data"
    }
   ],
   "source": [
    "train_loss = [np.mean(l) for l in np.array_split(train_ppl.get_variable(\"loss_history\"), N_EPOCH)]\n",
    "\n",
    "fig = plt.figure(figsize=(15, 4))\n",
    "plt.plot(train_loss)\n",
    "plt.xlabel(\"Epochs\")\n",
    "plt.ylabel(\"Training loss\")\n",
    "plt.show()"
   ]
  }
 ],
 "metadata": {
  "kernelspec": {
   "display_name": "Python 3",
   "language": "python",
   "name": "python3"
  },
  "language_info": {
   "codemirror_mode": {
    "name": "ipython",
    "version": 3
   },
   "file_extension": ".py",
   "mimetype": "text/x-python",
   "name": "python",
   "nbconvert_exporter": "python",
   "pygments_lexer": "ipython3",
   "version": "3.5.2"
  }
 },
 "nbformat": 4,
 "nbformat_minor": 2
}
