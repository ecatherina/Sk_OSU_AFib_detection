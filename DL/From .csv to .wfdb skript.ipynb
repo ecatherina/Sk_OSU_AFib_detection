{
 "cells": [
  {
   "cell_type": "code",
   "execution_count": null,
   "metadata": {},
   "outputs": [],
   "source": [
    "import sys\n",
    "import numpy as np\n",
    "import wfdb\n",
    "import wfdb.processing\n",
    "import tensorflow as tf\n",
    "import pandas as pd\n",
    "\n",
    "import os\n",
    "import glob\n",
    "import zipfile\n",
    "import shutil\n",
    "\n",
    "\n",
    "from matplotlib import pyplot as plt\n",
    "from IPython.display import display\n",
    "%matplotlib inline\n",
    "\n",
    "import warnings\n",
    "warnings.filterwarnings('ignore')"
   ]
  },
  {
   "cell_type": "code",
   "execution_count": null,
   "metadata": {},
   "outputs": [],
   "source": [
    "import zipfile\n",
    "zip_ref = zipfile.ZipFile('../Research/Ex Vivo CSV Files LD.zip', 'r')\n",
    "zip_ref.extractall('../Research/Raw Data/Ex Vivo CSV Files LD/')\n",
    "zip_ref.close()"
   ]
  },
  {
   "cell_type": "code",
   "execution_count": null,
   "metadata": {},
   "outputs": [],
   "source": []
  },
  {
   "cell_type": "code",
   "execution_count": null,
   "metadata": {},
   "outputs": [],
   "source": [
    "\"\"\"\n",
    "Uploading data and renaming columns\n",
    "Parameters: \n",
    "-----------\n",
    "path: string\n",
    "    path to the folder with dataframes \n",
    "\n",
    "Returns: \n",
    "-------\n",
    "data_list\n",
    "    List with pd.DataFrames \n",
    "\"\"\"\n",
    "\n",
    "def upload_data(path):\n",
    "\n",
    "    data_list = []\n",
    "    files_list = os.path.join(path, '*.csv')\n",
    "    for filename in glob.glob(files_list):\n",
    "        data = pd.read_csv(filename, header=0)\n",
    "        data.rename(columns=lambda x: x.replace(' ', '_'), inplace=True)\n",
    "        data.rename(columns=lambda x: x.replace('_O', '_opt'), inplace=True)\n",
    "        data.rename(columns=lambda x: x.replace('.', '_opt_'), inplace=True)\n",
    "        data.rename(columns=lambda x: x.replace('Bsk', filename + '_Bsk'), inplace=True)\n",
    "        data.rename(columns=lambda x: x.replace(path, ''), inplace=True)\n",
    "        data.rename(columns=lambda x: x.replace('.csv_annot.csv', ''), inplace=True)\n",
    "        data.rename(columns=lambda x: x.replace('\\\\', ''), inplace=True)\n",
    "        print(filename, data.shape)\n",
    "        data_list.append(data)\n",
    "    return(data_list)\n",
    "path = r'C:\\Users\\ecath\\Desktop\\Research\\Raw Data\\LD dataset'\n",
    "data_list = upload_data(path)"
   ]
  },
  {
   "cell_type": "code",
   "execution_count": null,
   "metadata": {},
   "outputs": [],
   "source": [
    "def class_splitting(data_list):\n",
    "    \n",
    "    drivers = []\n",
    "    nondrivers = []\n",
    "    noises = []\n",
    "\n",
    "    for df in data_list:\n",
    "        driver = pd.DataFrame()\n",
    "        nondriver = pd.DataFrame()\n",
    "        noise = pd.DataFrame()\n",
    "        for col in df.columns[1::3]:\n",
    "            curr_index = list(df.columns).index(col)\n",
    "            prev_index = curr_index - 1\n",
    "            next_index = curr_index + 1\n",
    "            prev_col = df.iloc[:,prev_index]\n",
    "            next_col = df.iloc[:,next_index]\n",
    "            if df[col][0] == 1:\n",
    "                driver[df.columns[prev_index]] = prev_col\n",
    "                driver[df.columns[next_index]] = next_col\n",
    "            elif df[col][0] == 0:\n",
    "                nondriver[df.columns[prev_index]] = prev_col\n",
    "                nondriver[df.columns[next_index]] = next_col\n",
    "            else:\n",
    "                noise[df.columns[prev_index]] = prev_col\n",
    "                noise[df.columns[next_index]] = next_col\n",
    "        drivers.append(driver)\n",
    "        nondrivers.append(nondriver)\n",
    "        noises.append(noise)\n",
    "        \n",
    "    return(drivers, nondrivers, noises)\n",
    "\n",
    "drivers, nondrivers, noises = class_splitting(data_list)"
   ]
  },
  {
   "cell_type": "code",
   "execution_count": null,
   "metadata": {},
   "outputs": [],
   "source": [
    "def del_nul_and_nan(df):\n",
    "    \n",
    "    df.fillna(value=0, axis=1, inplace=True)\n",
    "    \n",
    "################# add to drop off zero columns ######################    \n",
    "#     for col in df.columns:\n",
    "#         if df[col].sum() == 0:\n",
    "#             df.drop([col], axis = 1, inplace = True)  \n",
    "################# add to drop off zero columns ######################    \n",
    "    \n",
    "    return df"
   ]
  },
  {
   "cell_type": "code",
   "execution_count": null,
   "metadata": {},
   "outputs": [],
   "source": [
    "for i in drivers:\n",
    "    del_nul_and_nan(i)\n",
    "for i in nondrivers:\n",
    "    del_nul_and_nan(i)\n",
    "for i in noises:\n",
    "    del_nul_and_nan(i)"
   ]
  },
  {
   "cell_type": "code",
   "execution_count": null,
   "metadata": {},
   "outputs": [],
   "source": [
    "def saving_single_signal(data_list, path, mapping):\n",
    "    \n",
    "    if not os.path.exists(path):\n",
    "        os.mkdir(path)\n",
    "    os.chdir(path)\n",
    "    \n",
    "    for df in data_list:\n",
    "        dfs = np.split(df, df.shape[1], axis=1)\n",
    "        \n",
    "        if mapping == 'el':\n",
    "            i = 0 \n",
    "            while i <= len(dfs)-1:\n",
    "                name = str(df.columns[i]) \n",
    "                dfs[i].to_csv(name + '.csv', index=False)\n",
    "                i+=2\n",
    "        if mapping == 'opt':\n",
    "            i = 1 \n",
    "            while i <= len(dfs):\n",
    "                name = str(df.columns[i]) \n",
    "                dfs[i].to_csv(name + '.csv', index=False)\n",
    "                i+=2"
   ]
  },
  {
   "cell_type": "code",
   "execution_count": null,
   "metadata": {},
   "outputs": [],
   "source": [
    "path = '/home/kate/Research/Raw Data/Splitted drivers electrode signals LD'\n",
    "saving_single_signal(drivers, path, 'el')"
   ]
  },
  {
   "cell_type": "code",
   "execution_count": null,
   "metadata": {},
   "outputs": [],
   "source": [
    "path = '/home/kate/Research/Raw Data/Splitted nondrivers electrode signals LD'\n",
    "saving_single_signal(nondrivers, path, 'el')"
   ]
  },
  {
   "cell_type": "code",
   "execution_count": null,
   "metadata": {},
   "outputs": [],
   "source": [
    "path = '/home/kate/Research/Raw Data/Splitted noise electrode signals LD'\n",
    "saving_single_signal(noises, path, 'el')"
   ]
  },
  {
   "cell_type": "code",
   "execution_count": null,
   "metadata": {},
   "outputs": [],
   "source": [
    "path = '/home/kate/Research/Raw Data/Splitted drivers optical signals LD'\n",
    "saving_single_signal(drivers, path, 'opt')"
   ]
  },
  {
   "cell_type": "code",
   "execution_count": null,
   "metadata": {},
   "outputs": [],
   "source": [
    "path = '/home/kate/Research/Raw Data/Splitted nondrivers optical signals LD'\n",
    "saving_single_signal(nondrivers, path, 'opt')"
   ]
  },
  {
   "cell_type": "code",
   "execution_count": null,
   "metadata": {},
   "outputs": [],
   "source": [
    "path = '/home/kate/Research/Raw Data/Splitted noise optical signals LD'\n",
    "saving_single_signal(noises, path, 'opt')"
   ]
  },
  {
   "cell_type": "code",
   "execution_count": null,
   "metadata": {
    "scrolled": true
   },
   "outputs": [],
   "source": [
    "def saving_wfdb(path, freq):\n",
    "\n",
    "    records = os.listdir(path)\n",
    "    records = [os.path.splitext(x)[0] for x in records]\n",
    "\n",
    "#     print(records)\n",
    "\n",
    "\n",
    "    if not os.path.exists(path + ' WFDB'):\n",
    "        os.mkdir(path + ' WFDB')\n",
    "    os.chdir(path)\n",
    "\n",
    "\n",
    "# 2. Write the signals and headers at WFDB format\n",
    "    freq = freq\n",
    "    for p in records:\n",
    "        if p != '.ipynb_checkpoints':\n",
    "            csv_filename = p + '.csv'\n",
    "            wfdb_filename = p \n",
    "            command = 'wrsamp -F ' + freq + ' -i ' + csv_filename + ' -o ' + wfdb_filename + ' -x 200'\n",
    "            print(command)\n",
    "            os.system(command)"
   ]
  },
  {
   "cell_type": "code",
   "execution_count": null,
   "metadata": {},
   "outputs": [],
   "source": [
    "path = '/home/kate/Research/Raw Data/Splitted drivers optical signals LD'\n",
    "saving_wfdb(path, freq='1000')"
   ]
  },
  {
   "cell_type": "code",
   "execution_count": null,
   "metadata": {},
   "outputs": [],
   "source": [
    "path = '/home/kate/Research/Raw Data/Splitted nondrivers optical signals LD'\n",
    "saving_wfdb(path, freq='1000')"
   ]
  },
  {
   "cell_type": "code",
   "execution_count": null,
   "metadata": {},
   "outputs": [],
   "source": [
    "path = '/home/kate/Research/Raw Data/Splitted noises optical signals LD'\n",
    "saving_wfdb(path, freq='1000')"
   ]
  },
  {
   "cell_type": "code",
   "execution_count": null,
   "metadata": {},
   "outputs": [],
   "source": [
    "path = '/home/kate/Research/Raw Data/Splitted drivers electrode signals LD'\n",
    "saving_wfdb(path, freq='1017.25')"
   ]
  },
  {
   "cell_type": "code",
   "execution_count": null,
   "metadata": {},
   "outputs": [],
   "source": [
    "path = '/home/kate/Research/Raw Data/Splitted nondrivers electrode signals LD'\n",
    "saving_wfdb(path, freq='1017.25')"
   ]
  },
  {
   "cell_type": "code",
   "execution_count": null,
   "metadata": {},
   "outputs": [],
   "source": [
    "path = '/home/kate/Research/Raw Data/Splitted noises electrode signals LD'\n",
    "saving_wfdb(path, freq='1017.25')"
   ]
  },
  {
   "cell_type": "code",
   "execution_count": null,
   "metadata": {},
   "outputs": [],
   "source": [
    "def moving_wfdb(source):\n",
    "\n",
    "#     if not os.path.exists('/home/kate/Research/Raw Data/All optical WFDB'):\n",
    "#         os.mkdir('/home/kate/Research/Raw Data/All optical WFDB')\n",
    "#     destination = '/home/kate/Research/Raw Data/All optical WFDB'\n",
    "    \n",
    "    destination = source + ' WFDB'\n",
    "\n",
    "    files = os.listdir(source)\n",
    "\n",
    "    for file in files:\n",
    "        if file.endswith('.dat'):\n",
    "            print(file)\n",
    "            shutil.move(os.path.join(source, file), os.path.join(destination, file))\n",
    "        if file.endswith('.hea'):\n",
    "            print(file)\n",
    "            shutil.move(os.path.join(source, file), os.path.join(destination, file))"
   ]
  },
  {
   "cell_type": "code",
   "execution_count": null,
   "metadata": {},
   "outputs": [],
   "source": [
    "source = '/home/kate/Research/Raw Data/Splitted drivers electrode signals LD'\n",
    "moving_wfdb(source)"
   ]
  },
  {
   "cell_type": "code",
   "execution_count": null,
   "metadata": {},
   "outputs": [],
   "source": [
    "source = '/home/kate/Research/Raw Data/Splitted nondrivers electrode signals LD'\n",
    "moving_wfdb(source)"
   ]
  },
  {
   "cell_type": "code",
   "execution_count": null,
   "metadata": {},
   "outputs": [],
   "source": [
    "source = '/home/kate/Research/Raw Data/Splitted noises electrode signals LD'\n",
    "moving_wfdb(source)"
   ]
  },
  {
   "cell_type": "code",
   "execution_count": null,
   "metadata": {},
   "outputs": [],
   "source": [
    "source = '/home/kate/Research/Raw Data/Splitted drivers optical signals LD'\n",
    "moving_wfdb(source)"
   ]
  },
  {
   "cell_type": "code",
   "execution_count": null,
   "metadata": {},
   "outputs": [],
   "source": [
    "source = '/home/kate/Research/Raw Data/Splitted nondrivers optical signals LD'\n",
    "moving_wfdb(source)"
   ]
  },
  {
   "cell_type": "code",
   "execution_count": null,
   "metadata": {},
   "outputs": [],
   "source": [
    "source = '/home/kate/Research/Raw Data/Splitted noises optical signals LD'\n",
    "moving_wfdb(source)"
   ]
  },
  {
   "cell_type": "code",
   "execution_count": null,
   "metadata": {},
   "outputs": [],
   "source": [
    "def reference_creation(path, label):\n",
    "    files = os.listdir(path)\n",
    "    files = [os.path.splitext(x)[0] for x in files]\n",
    "#     print(files)\n",
    "\n",
    "    df = pd.DataFrame(files)\n",
    "    label = np.full_like(df, fill_value=label)\n",
    "    label = pd.DataFrame(label)\n",
    "    df = pd.concat([df, label], axis=1, ignore_index=True)\n",
    "    return df"
   ]
  },
  {
   "cell_type": "code",
   "execution_count": null,
   "metadata": {},
   "outputs": [],
   "source": [
    "path = '/home/kate/Research/Raw Data/Splitted drivers electrode signals LD'\n",
    "dr = reference_creation(path, 'D')"
   ]
  },
  {
   "cell_type": "code",
   "execution_count": null,
   "metadata": {},
   "outputs": [],
   "source": [
    "path = '/home/kate/Research/Raw Data/Splitted nondrivers electrode signals LD'\n",
    "nondr = reference_creation(path, 'ND')"
   ]
  },
  {
   "cell_type": "code",
   "execution_count": null,
   "metadata": {},
   "outputs": [],
   "source": [
    "path = '/home/kate/Research/Raw Data/Splitted noises electrode signals'\n",
    "n = reference_creation(path, 'N')"
   ]
  },
  {
   "cell_type": "code",
   "execution_count": null,
   "metadata": {},
   "outputs": [],
   "source": [
    "ref = pd.concat([dr, nondr, n], axis=0, ignore_index=True)\n",
    "ref.to_csv('/home/kate/Research/Raw Data/REFERENCE electrode LD.csv', index=False, header=False)"
   ]
  },
  {
   "cell_type": "code",
   "execution_count": null,
   "metadata": {},
   "outputs": [],
   "source": [
    "path = '/home/kate/Research/Raw Data/Splitted drivers optical signals LD'\n",
    "dr_opt = reference_creation(path, 'D')"
   ]
  },
  {
   "cell_type": "code",
   "execution_count": null,
   "metadata": {},
   "outputs": [],
   "source": [
    "path = '/home/kate/Research/Raw Data/Splitted nondrivers optical signals LD'\n",
    "nondr_opt = reference_creation(path, 'D')"
   ]
  },
  {
   "cell_type": "code",
   "execution_count": null,
   "metadata": {},
   "outputs": [],
   "source": [
    "path = '/home/kate/Research/Raw Data/Splitted noises optical signals LD'\n",
    "n_opt = reference_creation(path, 'D')"
   ]
  },
  {
   "cell_type": "code",
   "execution_count": null,
   "metadata": {},
   "outputs": [],
   "source": [
    "ref_opt = pd.concat([dr_opt, nondr_opt, n_opt], axis=0, ignore_index=True)\n",
    "ref_opt.to_csv('/home/kate/Research/Raw Data/REFERENCE optical LD.csv', index=False, header=False)"
   ]
  },
  {
   "cell_type": "code",
   "execution_count": null,
   "metadata": {},
   "outputs": [],
   "source": [
    "ref_el = pd.read_csv('/home/kate/Research/Raw Data/REFERENCE electrode LD.csv', header=-1)\n",
    "ref_opt = pd.read_csv('/home/kate/Research/Raw Data/REFERENCE optical LD.csv', header=-1)\n",
    "ref_full = pd.concat([ref_el, ref_opt], axis=0, ignore_index=True)\n",
    "ref_full.to_csv('/home/kate/Research/Raw Data/REFERENCE full LD.csv', index=False, header=False)"
   ]
  },
  {
   "cell_type": "code",
   "execution_count": null,
   "metadata": {},
   "outputs": [],
   "source": [
    "# I moved all obtained wfdb files and REFERENCE file in one folder \n",
    "\n",
    "# if not os.path.exists('/home/kate/Research/Raw Data/All WFDB electrode LD'):\n",
    "#     os.mkdir('/home/kate/Research/Raw Data/All WFDB electrode LD')\n",
    "  \n",
    "shutil.copy('/home/kate/Research/Raw Data/REFERENCE full LD.csv', '/home/kate/Research/Raw Data/All WFDB full LD/')\n",
    "\n",
    "source = '/home/kate/Research/Raw Data/Splitted nondrivers optical signals LD WFDB/'\n",
    "destination = '/home/kate/Research/Raw Data/All WFDB full LD/'\n",
    "\n",
    "files = os.listdir(source)\n",
    "\n",
    "for file in files:\n",
    "    print(file)\n",
    "    shutil.copy(os.path.join(source, file), os.path.join(destination, file))"
   ]
  },
  {
   "cell_type": "code",
   "execution_count": null,
   "metadata": {},
   "outputs": [],
   "source": [
    "os.listdir('/home/kate/Research/Raw Data/All WFDB full LD')"
   ]
  },
  {
   "cell_type": "code",
   "execution_count": null,
   "metadata": {},
   "outputs": [],
   "source": [
    "path = '/home/kate/Research/Raw Data/'\n",
    "os.chdir(path)\n",
    "\n",
    "def zipdir(path, ziph):\n",
    "    # ziph is zipfile handle\n",
    "    for root, dirs, files in os.walk(path):\n",
    "        for file in files:\n",
    "            ziph.write(os.path.join(root, file))\n",
    "\n",
    "if __name__ == '__main__':\n",
    "    zipf = zipfile.ZipFile('Electrode signals WFDB.zip', 'w', zipfile.ZIP_STORED)\n",
    "    zipdir('/home/kate/Research/Raw Data/All WFDB/', zipf)\n",
    "    zipf.close()"
   ]
  },
  {
   "cell_type": "code",
   "execution_count": null,
   "metadata": {},
   "outputs": [],
   "source": []
  }
 ],
 "metadata": {
  "kernelspec": {
   "display_name": "Python 3",
   "language": "python",
   "name": "python3"
  },
  "language_info": {
   "codemirror_mode": {
    "name": "ipython",
    "version": 3
   },
   "file_extension": ".py",
   "mimetype": "text/x-python",
   "name": "python",
   "nbconvert_exporter": "python",
   "pygments_lexer": "ipython3",
   "version": "3.5.2"
  }
 },
 "nbformat": 4,
 "nbformat_minor": 2
}
