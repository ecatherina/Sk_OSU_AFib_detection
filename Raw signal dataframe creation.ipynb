{
 "cells": [
  {
   "cell_type": "markdown",
   "metadata": {},
   "source": [
    "# Skript that combine all raw MEM and NIOM recordings in one dataframe and perform Butterworth filtration"
   ]
  },
  {
   "cell_type": "code",
   "execution_count": 1,
   "metadata": {},
   "outputs": [],
   "source": [
    "import pandas as pd\n",
    "import numpy as np\n",
    "\n",
    "import matplotlib.pyplot as plt\n",
    "%matplotlib inline\n",
    "\n",
    "from scipy.signal import lfilter, butter\n",
    "import os, glob\n",
    "\n",
    "import warnings\n",
    "warnings.filterwarnings(\"ignore\")"
   ]
  },
  {
   "cell_type": "code",
   "execution_count": 2,
   "metadata": {},
   "outputs": [
    {
     "name": "stdout",
     "output_type": "stream",
     "text": [
      "C:\\Users\\ecath\\Desktop\\Research\\Raw Data\\LD dataset\\1.csv_annot.csv (10173, 192)\n",
      "C:\\Users\\ecath\\Desktop\\Research\\Raw Data\\LD dataset\\10_Epi.csv_annot.csv (8191, 192)\n",
      "C:\\Users\\ecath\\Desktop\\Research\\Raw Data\\LD dataset\\11_Endo.csv_annot.csv (10173, 192)\n",
      "C:\\Users\\ecath\\Desktop\\Research\\Raw Data\\LD dataset\\12_Epi.csv_annot.csv (10173, 192)\n",
      "C:\\Users\\ecath\\Desktop\\Research\\Raw Data\\LD dataset\\15_Endo.csv_annot.csv (8191, 192)\n",
      "C:\\Users\\ecath\\Desktop\\Research\\Raw Data\\LD dataset\\16_Epi.csv_annot.csv (8191, 192)\n",
      "C:\\Users\\ecath\\Desktop\\Research\\Raw Data\\LD dataset\\17_Endo.csv_annot.csv (10173, 192)\n",
      "C:\\Users\\ecath\\Desktop\\Research\\Raw Data\\LD dataset\\18_Epi.csv_annot.csv (10173, 192)\n",
      "C:\\Users\\ecath\\Desktop\\Research\\Raw Data\\LD dataset\\22.csv_annot.csv (16667, 192)\n",
      "C:\\Users\\ecath\\Desktop\\Research\\Raw Data\\LD dataset\\23.csv_annot.csv (16383, 192)\n",
      "C:\\Users\\ecath\\Desktop\\Research\\Raw Data\\LD dataset\\24.csv_annot.csv (18311, 192)\n",
      "C:\\Users\\ecath\\Desktop\\Research\\Raw Data\\LD dataset\\25.csv_annot.csv (16383, 192)\n",
      "C:\\Users\\ecath\\Desktop\\Research\\Raw Data\\LD dataset\\28.csv_annot.csv (8775, 192)\n",
      "C:\\Users\\ecath\\Desktop\\Research\\Raw Data\\LD dataset\\29.csv_annot.csv (8775, 192)\n",
      "C:\\Users\\ecath\\Desktop\\Research\\Raw Data\\LD dataset\\30.csv_annot.csv (8138, 192)\n",
      "C:\\Users\\ecath\\Desktop\\Research\\Raw Data\\LD dataset\\31.csv_annot.csv (8138, 192)\n",
      "C:\\Users\\ecath\\Desktop\\Research\\Raw Data\\LD dataset\\32.csv_annot.csv (10173, 192)\n",
      "C:\\Users\\ecath\\Desktop\\Research\\Raw Data\\LD dataset\\33.csv_annot.csv (10173, 192)\n",
      "C:\\Users\\ecath\\Desktop\\Research\\Raw Data\\LD dataset\\34.csv_annot.csv (10173, 192)\n",
      "C:\\Users\\ecath\\Desktop\\Research\\Raw Data\\LD dataset\\35.csv_annot.csv (10173, 192)\n",
      "C:\\Users\\ecath\\Desktop\\Research\\Raw Data\\LD dataset\\36.csv_annot.csv (8191, 192)\n",
      "C:\\Users\\ecath\\Desktop\\Research\\Raw Data\\LD dataset\\37.csv_annot.csv (8191, 192)\n",
      "C:\\Users\\ecath\\Desktop\\Research\\Raw Data\\LD dataset\\38.csv_annot.csv (8138, 192)\n",
      "C:\\Users\\ecath\\Desktop\\Research\\Raw Data\\LD dataset\\39.csv_annot.csv (8138, 192)\n",
      "C:\\Users\\ecath\\Desktop\\Research\\Raw Data\\LD dataset\\3_Endo.csv_annot.csv (10173, 192)\n",
      "C:\\Users\\ecath\\Desktop\\Research\\Raw Data\\LD dataset\\4_Epi.csv_annot.csv (10173, 192)\n",
      "C:\\Users\\ecath\\Desktop\\Research\\Raw Data\\LD dataset\\9_Endo.csv_annot.csv (8191, 192)\n"
     ]
    }
   ],
   "source": [
    "\"\"\"\n",
    "Uploading data and renaming columns\n",
    "Parameters: \n",
    "-----------\n",
    "path: string\n",
    "    path to the folder with dataframes \n",
    "\n",
    "Returns: \n",
    "-------\n",
    "data_list\n",
    "    List with pd.DataFrames \n",
    "\"\"\"\n",
    "\n",
    "def upload_data(path):\n",
    "\n",
    "    data_list = []\n",
    "    files_list = os.path.join(path, '*.csv')\n",
    "    for filename in glob.glob(files_list):\n",
    "        data = pd.read_csv(filename, header=0)\n",
    "        data.rename(columns=lambda x: x.replace(' ', '_'), inplace=True)\n",
    "        data.rename(columns=lambda x: x.replace('_O', '_opt'), inplace=True)\n",
    "        data.rename(columns=lambda x: x.replace('.', '_opt_'), inplace=True)\n",
    "        data.rename(columns=lambda x: x.replace('Bsk', filename + '_Bsk'), inplace=True)\n",
    "        data.rename(columns=lambda x: x.replace(path, ''), inplace=True)\n",
    "        data.rename(columns=lambda x: x.replace('.csv_annot.csv', ''), inplace=True)\n",
    "        data.rename(columns=lambda x: x.replace('\\\\', ''), inplace=True)\n",
    "        print(filename, data.shape)\n",
    "        data_list.append(data)\n",
    "    return(data_list)\n",
    "path = r'C:\\Users\\ecath\\Desktop\\Research\\Raw Data\\LD dataset'\n",
    "data_list = upload_data(path)"
   ]
  },
  {
   "cell_type": "code",
   "execution_count": 3,
   "metadata": {},
   "outputs": [],
   "source": [
    "\"\"\"\n",
    "Splitting spreadspeet to the classes by label \n",
    "\n",
    "Parameters: \n",
    "-----------\n",
    "data_list: list\n",
    "    List with pd.DataFrames\n",
    "\n",
    "Returns: \n",
    "-------\n",
    "drivers, nondrivers, noises: list, list, list\n",
    "    Lists with pd.DataFrames, one for each of three classes respectively\n",
    "\"\"\"\n",
    "\n",
    "def class_splitting(data_list):\n",
    "    \n",
    "    drivers = []\n",
    "    nondrivers = []\n",
    "    noises = []\n",
    "\n",
    "    for df in data_list:\n",
    "        driver = pd.DataFrame()\n",
    "        nondriver = pd.DataFrame()\n",
    "        noise = pd.DataFrame()\n",
    "        for col in df.columns[1::3]:\n",
    "            curr_index = list(df.columns).index(col)\n",
    "            prev_index = curr_index - 1\n",
    "            next_index = curr_index + 1\n",
    "            prev_col = df.iloc[:,prev_index]\n",
    "            next_col = df.iloc[:,next_index]\n",
    "            if df[col][0] == 1:\n",
    "                driver[df.columns[prev_index]] = prev_col\n",
    "                driver[df.columns[next_index]] = next_col\n",
    "            elif df[col][0] == 0:\n",
    "                nondriver[df.columns[prev_index]] = prev_col\n",
    "                nondriver[df.columns[next_index]] = next_col\n",
    "            else:\n",
    "                noise[df.columns[prev_index]] = prev_col\n",
    "                noise[df.columns[next_index]] = next_col\n",
    "        drivers.append(driver)\n",
    "        nondrivers.append(nondriver)\n",
    "        noises.append(noise)\n",
    "        \n",
    "    return(drivers, nondrivers, noises)\n",
    "\n",
    "drivers, nondrivers, noises = class_splitting(data_list)"
   ]
  },
  {
   "cell_type": "code",
   "execution_count": 4,
   "metadata": {},
   "outputs": [],
   "source": [
    "\"\"\"\n",
    "Function performs bandpass filter for the digital signal \n",
    "\n",
    "Parameters: \n",
    "-----------\n",
    "data: array_like\n",
    "    An N-dimensional input array\n",
    "lowcut: float\n",
    "    Low cutoff frequency\n",
    "highcut: float\n",
    "    High cutoff frequency\n",
    "fs: float\n",
    "    Sampling rate of the signal\n",
    "order: int\n",
    "    The order of the filter.\n",
    "\n",
    "Returns: \n",
    "-------\n",
    "filtered_signal: array\n",
    "    The output of the digital filter\n",
    "\"\"\"\n",
    "\n",
    "def butter_bandpass(data, lowcut, highcut, fs, order=5):\n",
    "    nyq = 0.5 * fs\n",
    "    \n",
    "    high = highcut / nyq\n",
    "    low = lowcut / nyq\n",
    "    \n",
    "    b, a = butter(order, [low, high], btype='bandpass', analog=False)\n",
    "    filtered_signal = lfilter(b, a, data)\n",
    "    \n",
    "    return filtered_signal\n",
    "\n",
    "\"\"\"\n",
    "\n",
    "Parameters: \n",
    "-----------\n",
    "df: pd.DataFrame\n",
    "    DataFrame\n",
    "label: int, {-1, 0, 1}\n",
    "    Target label\n",
    "    \n",
    "Returns: \n",
    "-------\n",
    "df: DataFrame\n",
    "   Dataframe with added target value\n",
    "\"\"\"\n",
    "\n",
    "def add_target(df, label):\n",
    "    target = np.full(shape=(1, df.shape[1]), fill_value = label)\n",
    "    target = pd.DataFrame(target, columns=df.columns, index=['target'])\n",
    "\n",
    "    df = pd.concat([df, target], axis=0)\n",
    "    return(df)"
   ]
  },
  {
   "cell_type": "code",
   "execution_count": 11,
   "metadata": {},
   "outputs": [],
   "source": [
    "\"\"\"\n",
    "\n",
    "Parameters: \n",
    "-----------\n",
    "list_df: list\n",
    "    list with one class dataFrames\n",
    "    \n",
    "Returns: \n",
    "-------\n",
    "out_df: DataFrame\n",
    "   Dataframe with concat dataframes\n",
    "df_filtered: DataFrame\n",
    "    Filtered general dataframe\n",
    "\"\"\"\n",
    "\n",
    "def concat_df(list_df):\n",
    "    out_df = pd.DataFrame()\n",
    "    for i in range(len(list_df)):\n",
    "        out_df = pd.concat([out_df, list_df[i]], axis=1)\n",
    "        out_df.fillna(value=0, axis=1, inplace=True)\n",
    "        \n",
    "    mem = out_df.iloc[:, ::2]\n",
    "    niom = out_df.iloc[:, 1::2]\n",
    "\n",
    "    df_filtered = pd.DataFrame()\n",
    "\n",
    "    for col in mem.columns:\n",
    "            df_filtered[col] = butter_bandpass(mem[col], 5, 20, 1017.25, order=5)\n",
    "    for col in niom.columns:\n",
    "            df_filtered[col] = butter_bandpass(niom[col], 5, 20, 1000, order=5)    \n",
    "\n",
    "    out_df = add_target(out_df, 1)\n",
    "    df_filtered = add_target(df_filtered, 1)\n",
    "    return(out_df, df_filtered)"
   ]
  },
  {
   "cell_type": "code",
   "execution_count": 14,
   "metadata": {},
   "outputs": [],
   "source": [
    "dr, dr_filtered = concat_df(drivers)"
   ]
  },
  {
   "cell_type": "code",
   "execution_count": 15,
   "metadata": {},
   "outputs": [],
   "source": [
    "nondr, nondr_filtered = concat_df(nondrivers)"
   ]
  },
  {
   "cell_type": "code",
   "execution_count": 16,
   "metadata": {},
   "outputs": [],
   "source": [
    "ns, ns_filtered = concat_df(noises)"
   ]
  },
  {
   "cell_type": "code",
   "execution_count": 17,
   "metadata": {},
   "outputs": [],
   "source": [
    "#join drivers nondrivers and noise dataframe in one (filtered and nonfiltered)\n",
    "\n",
    "out = pd.concat([dr, nondr, ns], axis=1)\n",
    "out_filtered = pd.concat([dr_filtered, nondr_filtered, ns_filtered], axis=1)"
   ]
  },
  {
   "cell_type": "code",
   "execution_count": 18,
   "metadata": {},
   "outputs": [],
   "source": [
    "path = r'C:\\Users\\ecath\\Desktop\\Research\\Raw Data'\n",
    "\n",
    "out.to_csv(path + '\\Raw signals.csv', sep=',', header=True)\n",
    "out_filtered.to_csv(path + '\\Raw signals filtered.csv', sep=',', header=True)"
   ]
  },
  {
   "cell_type": "code",
   "execution_count": 19,
   "metadata": {},
   "outputs": [
    {
     "data": {
      "text/plain": [
       "<matplotlib.legend.Legend at 0x22f899e1eb8>"
      ]
     },
     "execution_count": 19,
     "metadata": {},
     "output_type": "execute_result"
    },
    {
     "data": {
      "image/png": "[encoded data removed]",
      "text/plain": [
       "<Figure size 432x288 with 1 Axes>"
      ]
     },
     "metadata": {
      "needs_background": "light"
     },
     "output_type": "display_data"
    }
   ],
   "source": [
    "plt.plot(out.iloc[:-1,:1], label='raw')\n",
    "plt.plot(out_filtered.iloc[:-1,:1], label='filtered')\n",
    "plt.legend()"
   ]
  },
  {
   "cell_type": "markdown",
   "metadata": {},
   "source": [
    "----------------------------------"
   ]
  },
  {
   "cell_type": "code",
   "execution_count": 7,
   "metadata": {},
   "outputs": [],
   "source": [
    "# join all noise dataframes in one and filtering of the raw MEM and NIOM signals\n",
    "\n",
    "\n",
    "ns = pd.DataFrame()\n",
    "for i in range(len(noises)):\n",
    "    ns = pd.concat([ns, noises[i]], axis=1)\n",
    "\n",
    "ns.fillna(value=0, axis=1, inplace=True)\n",
    "\n",
    "mem = ns.iloc[:, ::2]\n",
    "niom = ns.iloc[:, 1::2]\n",
    "ns_filtered = pd.DataFrame()\n",
    "\n",
    "for col in mem.columns:\n",
    "        ns_filtered[col] = butter_bandpass(mem[col], 5, 20, 1017.25, order=5)\n",
    "for col in niom.columns:\n",
    "        ns_filtered[col] = butter_bandpass(niom[col], 5, 20, 1000, order=5)\n",
    "\n",
    "\n",
    "ns = add_target(ns, -1)\n",
    "ns_filtered = add_target(ns_filtered, -1)"
   ]
  }
 ],
 "metadata": {
  "kernelspec": {
   "display_name": "Python 3",
   "language": "python",
   "name": "python3"
  },
  "language_info": {
   "codemirror_mode": {
    "name": "ipython",
    "version": 3
   },
   "file_extension": ".py",
   "mimetype": "text/x-python",
   "name": "python",
   "nbconvert_exporter": "python",
   "pygments_lexer": "ipython3",
   "version": "3.7.1"
  }
 },
 "nbformat": 4,
 "nbformat_minor": 2
}
